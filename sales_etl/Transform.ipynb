{
 "cells": [
  {
   "cell_type": "code",
   "execution_count": 0,
   "metadata": {
    "application/vnd.databricks.v1+cell": {
     "cellMetadata": {
      "byteLimit": 2048000,
      "rowLimit": 10000
     },
     "inputWidgets": {},
     "nuid": "bda71276-ad1f-4fa3-acf5-9929a9b4c0b8",
     "showTitle": false,
     "tableResultSettingsMap": {},
     "title": ""
    }
   },
   "outputs": [],
   "source": [
    "from pyspark.sql.functions import col, trim\n",
    "\n",
    "# Load extracted data\n",
    "sales_df = spark.table(\"store_server.default.supermarket_sales\")\n",
    "\n",
    "# Data Transformation\n",
    "transformed_df = (\n",
    "    sales_df.withColumnRenamed(\"Invoice ID\", \"invoice_id\")\n",
    "      .withColumnRenamed(\"Tax 5%\", \"tax_5_percent\")\n",
    "      .withColumnRenamed(\"Customer type\", \"customer_type\")\n",
    "      .withColumnRenamed(\"Product line\", \"product_line\")\n",
    "      .withColumnRenamed(\"Unit price\", \"unit_price\")\n",
    "      .withColumnRenamed(\"Gross margin percentage\", \"gross_margin_percentage\")\n",
    "      .withColumnRenamed(\"gross income\", \"gross_income\")\n",
    "      .withColumn(\"invoice_id\", trim(col(\"invoice_id\")))\n",
    "      .dropDuplicates()\n",
    ")\n"
   ]
  }
 ],
 "metadata": {
  "application/vnd.databricks.v1+notebook": {
   "computePreferences": null,
   "dashboards": [],
   "environmentMetadata": {
    "base_environment": "",
    "environment_version": "2"
   },
   "language": "python",
   "notebookMetadata": {
    "pythonIndentUnit": 4
   },
   "notebookName": "Transform",
   "widgets": {}
  },
  "language_info": {
   "name": "python"
  }
 },
 "nbformat": 4,
 "nbformat_minor": 0
}
